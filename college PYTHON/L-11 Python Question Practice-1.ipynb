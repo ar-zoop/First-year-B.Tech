{
 "cells": [
  {
   "cell_type": "markdown",
   "metadata": {},
   "source": [
    "## WAP to get largest number from list"
   ]
  },
  {
   "cell_type": "code",
   "execution_count": null,
   "metadata": {},
   "outputs": [],
   "source": [
    "l=[1,2,3,4,5,6,7]\n",
    "big=l[0]\n",
    "for i in range (len(l)):\n",
    "    if big<l[i]:\n",
    "        big=l[i]\n",
    "    \n",
    "print(big)"
   ]
  },
  {
   "cell_type": "code",
   "execution_count": null,
   "metadata": {},
   "outputs": [],
   "source": [
    "L=[9,8,7,6,5,4,3,2,1]\n",
    "L.sort()\n",
    "print(L[-1])"
   ]
  },
  {
   "cell_type": "markdown",
   "metadata": {},
   "source": [
    "## WAP to get smallest number from list"
   ]
  },
  {
   "cell_type": "code",
   "execution_count": null,
   "metadata": {},
   "outputs": [],
   "source": [
    "L=[9,8,7,6,5,4,3,2,1]\n",
    "L.sort()\n",
    "print(L[0])"
   ]
  },
  {
   "cell_type": "code",
   "execution_count": null,
   "metadata": {},
   "outputs": [],
   "source": [
    "l=[9,8,7,6,5,4,3,2,1]\n",
    "small=l[0]\n",
    "for i in range (len(l)):\n",
    "    if small>l[i]:\n",
    "        small=l[i]\n",
    "    \n",
    "print(small)"
   ]
  },
  {
   "cell_type": "markdown",
   "metadata": {},
   "source": [
    "## WAP to count rhe number of strings where the string length is 2 or more and the first and last character are same from a given list of strings.\n",
    "the sample list=['abc','def','ghi'] \n",
    "expected result=2"
   ]
  },
  {
   "cell_type": "code",
   "execution_count": null,
   "metadata": {},
   "outputs": [],
   "source": [
    "l=['abca','defd','gh','jklj','mno']\n",
    "count=0\n",
    "for i in l:\n",
    "    if len(i)>2 and i[0]==i[-1]:\n",
    "        count+=1\n",
    "print(count)"
   ]
  },
  {
   "cell_type": "markdown",
   "metadata": {},
   "source": [
    "## WAP to remove duplicates from a list"
   ]
  },
  {
   "cell_type": "code",
   "execution_count": null,
   "metadata": {},
   "outputs": [],
   "source": [
    "l=[1,2,1,2,3,4,5,4,3,4,5,6,7,5,6,7,8,9,7,6,4,2]\n",
    "new_l=[]\n",
    "[new_l.append(i) for i in l if i not in new_l]\n",
    "print(new_l)"
   ]
  },
  {
   "cell_type": "markdown",
   "metadata": {},
   "source": [
    "## WAP to check if a list is empty or not"
   ]
  },
  {
   "cell_type": "code",
   "execution_count": null,
   "metadata": {},
   "outputs": [],
   "source": [
    "l=[]\n",
    "l2=[1,2,3,4,5,6]\n",
    "l3=[0,0]\n",
    "count=0\n",
    "for i in l3:\n",
    "    count+=1\n",
    "if count>0:\n",
    "    print(\"Not empty\")\n",
    "else:\n",
    "    print(\"Empty\")"
   ]
  },
  {
   "cell_type": "code",
   "execution_count": null,
   "metadata": {},
   "outputs": [],
   "source": [
    "l=[]\n",
    "l2=[1,2,3,4,5]\n",
    "if not l:\n",
    "    print(\"Empty\")\n",
    "if not l2:\n",
    "    print(\"Empty\")\n",
    "else:\n",
    "    print(\"Not empty\")"
   ]
  },
  {
   "cell_type": "markdown",
   "metadata": {},
   "source": [
    "## WAP to clone or copy a gicen list wihtout copy function"
   ]
  },
  {
   "cell_type": "code",
   "execution_count": null,
   "metadata": {},
   "outputs": [],
   "source": [
    "l=[1,2,3,4,5]\n",
    "l2=[]\n",
    "[l2.append(i) for i in l]\n",
    "print(l2)\n",
    "id(l2)==id(l)"
   ]
  },
  {
   "cell_type": "code",
   "execution_count": null,
   "metadata": {},
   "outputs": [],
   "source": [
    "l=[4,5,6,7]\n",
    "l3=l ##without type casting\n",
    "print(l3)\n",
    "id (l3)==id (l)"
   ]
  },
  {
   "cell_type": "code",
   "execution_count": null,
   "metadata": {},
   "outputs": [],
   "source": [
    "l=[4,5,6,7]\n",
    "l3=list(l) ##with type casting\n",
    "print(l3)\n",
    "id (l3)==id (l)"
   ]
  },
  {
   "cell_type": "markdown",
   "metadata": {},
   "source": [
    "## WAP to convert a list of characters into a string"
   ]
  },
  {
   "cell_type": "code",
   "execution_count": null,
   "metadata": {},
   "outputs": [],
   "source": [
    "l=['h','e','l','l','o']\n",
    "s=''\n",
    "for i in l:\n",
    "    s+=i\n",
    "print(s)\n",
    "print(type(s))"
   ]
  },
  {
   "cell_type": "code",
   "execution_count": null,
   "metadata": {},
   "outputs": [],
   "source": [
    "help(str.join)"
   ]
  },
  {
   "cell_type": "code",
   "execution_count": null,
   "metadata": {},
   "outputs": [],
   "source": [
    "l=['h','e','l','l','o']\n",
    "''.join(l)"
   ]
  },
  {
   "cell_type": "markdown",
   "metadata": {},
   "source": [
    "## WAP to print a specified list after removing the 0th, 4th, 5th elements"
   ]
  },
  {
   "cell_type": "code",
   "execution_count": null,
   "metadata": {},
   "outputs": [],
   "source": [
    "#hardcoded\n",
    "l=[0,1,2,3,4,5,6]\n",
    "l.pop(0)\n",
    "l.pop(3)\n",
    "l.pop(3)\n",
    "print(l)"
   ]
  },
  {
   "cell_type": "code",
   "execution_count": null,
   "metadata": {},
   "outputs": [],
   "source": [
    "l=['green', 'white', 'black', 'blue','pink','red']\n",
    "[l[i] for i in range(0,len(l)) if i not in (0,4,5)]"
   ]
  },
  {
   "cell_type": "markdown",
   "metadata": {},
   "source": [
    "## WAP to find the list of words that are longer than n from a given list of words"
   ]
  },
  {
   "cell_type": "code",
   "execution_count": null,
   "metadata": {},
   "outputs": [],
   "source": [
    "l=['qwerty','qwe','qwertyuio','qwe','qwerty','qwe','qwerty']\n",
    "newl=[]\n",
    "n=int(input(\"Enter a number: \"))\n",
    "for i in l:\n",
    "    if len(i)>n:\n",
    "        newl.append(i)\n",
    "print(newl)"
   ]
  },
  {
   "cell_type": "markdown",
   "metadata": {},
   "source": [
    "### Terminating a programme entirely\n",
    "How to stop an infinite loop"
   ]
  },
  {
   "cell_type": "code",
   "execution_count": null,
   "metadata": {},
   "outputs": [],
   "source": [
    "##quit() terminates the programme\n",
    "i=1\n",
    "while True:\n",
    "    if i==5:\n",
    "        quit()\n",
    "    else:\n",
    "        print(i)\n",
    "        i+=1"
   ]
  },
  {
   "cell_type": "markdown",
   "metadata": {},
   "source": [
    "### Menu driven programme"
   ]
  },
  {
   "cell_type": "code",
   "execution_count": null,
   "metadata": {},
   "outputs": [],
   "source": [
    "l=[]\n",
    "choice='yes'\n",
    "while True:\n",
    "    if choice=='yes':\n",
    "        n=input(\"Enter value: \")\n",
    "        l.append(n)\n",
    "    else:\n",
    "        break\n",
    "    choice=input(\"Do you want to store more data in the list? : (yes/no)\")\n",
    "print(l)"
   ]
  },
  {
   "cell_type": "markdown",
   "metadata": {},
   "source": [
    "## WAP to get difference between two lists"
   ]
  },
  {
   "cell_type": "code",
   "execution_count": null,
   "metadata": {},
   "outputs": [],
   "source": [
    "l1=[1,2,3,4,5,6]\n",
    "l2=[7,8,9,10,11,12]\n",
    "l3=[]\n",
    "for i in range (len(l1)):\n",
    "    l3.append(l2[i]-l1[i])\n",
    "print(l3)\n",
    "     "
   ]
  },
  {
   "cell_type": "markdown",
   "metadata": {},
   "source": [
    "## WAP to select an item randomly from a list"
   ]
  },
  {
   "cell_type": "code",
   "execution_count": null,
   "metadata": {},
   "outputs": [],
   "source": [
    "import random as r\n",
    "l=[1,2,3,4,5,6,7,8,9]\n",
    "i=r.randint(1,10)\n",
    "print(l[i])"
   ]
  },
  {
   "cell_type": "code",
   "execution_count": null,
   "metadata": {},
   "outputs": [],
   "source": [
    "import random as r\n",
    "l=[1,2,3,4,5,6,7,8,9]\n",
    "print(r.choice(l))"
   ]
  },
  {
   "cell_type": "markdown",
   "metadata": {},
   "source": [
    "## WAP to check whether a list contains a sublist"
   ]
  },
  {
   "cell_type": "code",
   "execution_count": null,
   "metadata": {},
   "outputs": [],
   "source": [
    "##wrong\n",
    "l=[1,2,3,[4,5,6],7]\n",
    "for i in l:\n",
    "    if len(i)>1:\n",
    "        print(\"Sublist found\")\n",
    "        print(i)"
   ]
  },
  {
   "cell_type": "markdown",
   "metadata": {},
   "source": [
    "## WAP to create a list by concatenating a given list which range goes from 1 to n"
   ]
  },
  {
   "cell_type": "code",
   "execution_count": null,
   "metadata": {},
   "outputs": [],
   "source": [
    "l=['p','q']\n",
    "l1=[]\n",
    "n=5\n",
    "for i in range(1,n+1):\n",
    "    for j in l:\n",
    "        l1.append(j+str(i))\n",
    "print(l1)"
   ]
  },
  {
   "cell_type": "markdown",
   "metadata": {},
   "source": [
    "## WAP to find common items from two lists"
   ]
  },
  {
   "cell_type": "code",
   "execution_count": null,
   "metadata": {},
   "outputs": [],
   "source": [
    "##does many iterations\n",
    "l=[1,2,3,4,5,6,7,8,9,10]\n",
    "l2=[1,2,3,4,11,12,13,14,15]\n",
    "for i in l:\n",
    "    for j in l2:\n",
    "        if i==j:\n",
    "            print(i)"
   ]
  },
  {
   "cell_type": "code",
   "execution_count": null,
   "metadata": {},
   "outputs": [],
   "source": [
    "##decreases amount of iterations\n",
    "l=[1,2,3,4,5,6,7,8,9,10]\n",
    "l2=[1,2,3,4,11,12,13,14,15]\n",
    "if len(l)>len(l2):\n",
    "    for i in l2:\n",
    "        if i in l:\n",
    "            print(i)\n",
    "else:\n",
    "    for i in l:\n",
    "        if i in l2:\n",
    "            print(i)"
   ]
  },
  {
   "cell_type": "markdown",
   "metadata": {},
   "source": [
    "## WAP to convert a list of multiple integers into a single integer"
   ]
  },
  {
   "cell_type": "code",
   "execution_count": 4,
   "metadata": {},
   "outputs": [
    {
     "name": "stdout",
     "output_type": "stream",
     "text": [
      "1234567\n",
      "<class 'int'>\n"
     ]
    }
   ],
   "source": [
    "l=[1,2,3,4,5,6,7]\n",
    "s=''\n",
    "for i in l:\n",
    "    s+=str(i)\n",
    "c=int(s)\n",
    "print(c)\n",
    "print(type(c))"
   ]
  },
  {
   "cell_type": "code",
   "execution_count": null,
   "metadata": {},
   "outputs": [],
   "source": []
  }
 ],
 "metadata": {
  "kernelspec": {
   "display_name": "Python 3",
   "language": "python",
   "name": "python3"
  },
  "language_info": {
   "codemirror_mode": {
    "name": "ipython",
    "version": 3
   },
   "file_extension": ".py",
   "mimetype": "text/x-python",
   "name": "python",
   "nbconvert_exporter": "python",
   "pygments_lexer": "ipython3",
   "version": "3.8.3"
  }
 },
 "nbformat": 4,
 "nbformat_minor": 4
}
