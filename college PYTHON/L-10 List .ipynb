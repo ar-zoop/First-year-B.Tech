{
 "cells": [
  {
   "cell_type": "code",
   "execution_count": null,
   "metadata": {},
   "outputs": [],
   "source": [
    "dir (list)"
   ]
  },
  {
   "cell_type": "code",
   "execution_count": null,
   "metadata": {},
   "outputs": [],
   "source": [
    "type(dir(list))"
   ]
  },
  {
   "cell_type": "code",
   "execution_count": null,
   "metadata": {},
   "outputs": [],
   "source": [
    "for i in dir(list):\n",
    "    print (i)"
   ]
  },
  {
   "cell_type": "markdown",
   "metadata": {},
   "source": [
    "### List Comprehension\n",
    "3 parts in it:\n",
    "[ output_expression() for(set of values to iterate) if(conditional filtering) ]\n",
    "or\n",
    "[i for i in range (x,y) condition]\n",
    "1. For loops runs\n",
    "2. checks condition\n",
    "3. prints i(the first i)"
   ]
  },
  {
   "cell_type": "code",
   "execution_count": null,
   "metadata": {},
   "outputs": [],
   "source": [
    "[i for i in range(0,11)]"
   ]
  },
  {
   "cell_type": "code",
   "execution_count": null,
   "metadata": {},
   "outputs": [],
   "source": [
    "#not in \n",
    "[x for x in dir(list) if '_' not in x]\n"
   ]
  },
  {
   "cell_type": "code",
   "execution_count": null,
   "metadata": {},
   "outputs": [],
   "source": [
    "[i*i for i in range (1,11)]"
   ]
  },
  {
   "cell_type": "code",
   "execution_count": null,
   "metadata": {},
   "outputs": [],
   "source": [
    "l=[1,2,3,4,5,6,7,8,9,10]\n",
    "[i for i in l if i%3==0]"
   ]
  },
  {
   "cell_type": "code",
   "execution_count": null,
   "metadata": {},
   "outputs": [],
   "source": [
    "l[2:5]=[13,14,15]\n",
    "print(l)"
   ]
  },
  {
   "cell_type": "markdown",
   "metadata": {},
   "source": [
    "# Remove all repeated numbers from the list"
   ]
  },
  {
   "cell_type": "code",
   "execution_count": null,
   "metadata": {},
   "outputs": [],
   "source": [
    "L=[1,2,2,2,2,3,3,3,3,4,5,6,7,8,3,2,4,9,9,10,10]\n",
    "New_L=[]\n",
    "for i in L:\n",
    "    if i not in New_L:\n",
    "        New_L.append(i)\n",
    "L=New_L\n",
    "del New_L\n",
    "print(L)"
   ]
  },
  {
   "cell_type": "markdown",
   "metadata": {},
   "source": [
    "# Remove all repeated numbers from the list short code"
   ]
  },
  {
   "cell_type": "code",
   "execution_count": null,
   "metadata": {},
   "outputs": [],
   "source": [
    "L=[1,2,2,2,2,3,3,3,3,4,5,6,7,8,3,2,4,9,9,10,10]\n",
    "New_L=[]\n",
    "[New_L.append(i) for i in L if i not in New_L]\n",
    "   \n",
    "print(New_L)"
   ]
  },
  {
   "cell_type": "code",
   "execution_count": null,
   "metadata": {},
   "outputs": [],
   "source": [
    "[i for i in 'abcdefghijklmnopqrstuvwxyz' if i in 'aeiou']"
   ]
  },
  {
   "cell_type": "code",
   "execution_count": null,
   "metadata": {},
   "outputs": [],
   "source": [
    "[1,2,3]*4"
   ]
  },
  {
   "cell_type": "markdown",
   "metadata": {},
   "source": [
    "# WAP to check if a given list is palindrome or not"
   ]
  },
  {
   "cell_type": "code",
   "execution_count": null,
   "metadata": {},
   "outputs": [],
   "source": [
    "l=[1,2,3,4,5,6,5,4,3,2,1]\n",
    "n=len(l)\n",
    "flag=0\n",
    "for i in range (0,n//2):\n",
    "    for j in range(-1,-((n+1)//2),-1):\n",
    "        if l[i]==l[j]:\n",
    "            flag=0\n",
    "        else:\n",
    "            flag=-999\n",
    "if flag<0:\n",
    "    print(\"No\")\n",
    "else:\n",
    "    print(\"Yes\")"
   ]
  },
  {
   "cell_type": "code",
   "execution_count": null,
   "metadata": {},
   "outputs": [],
   "source": [
    "l=[1,2,3,4,5,6,5,4,3,2,1]\n",
    "j=-1\n",
    "for i in range((len(l)//2)+1):\n",
    "    if l[i]==l[j]:\n",
    "        j-=1\n",
    "    else:\n",
    "        print('The given string is not Plaindrome -- ',l)\n",
    "        break\n",
    "else:\n",
    "    print('The given string is Plaindrome -- ',l)"
   ]
  },
  {
   "cell_type": "code",
   "execution_count": null,
   "metadata": {},
   "outputs": [],
   "source": [
    "#------------------------------------------------------------------------------"
   ]
  },
  {
   "cell_type": "code",
   "execution_count": 5,
   "metadata": {},
   "outputs": [
    {
     "name": "stdout",
     "output_type": "stream",
     "text": [
      "0 => 101\n",
      "1 => 102\n",
      "2 => 103\n",
      "3 => 104\n",
      "4 => 105\n",
      "5 => 106\n",
      "6 => 107\n",
      "7 => 108\n",
      "8 => 109\n",
      "9 => 110\n"
     ]
    }
   ],
   "source": [
    "l=[i for i in range (101,111)]\n",
    "for id,value in enumerate (l):\n",
    "    print(id,value,sep=' => ')"
   ]
  },
  {
   "cell_type": "code",
   "execution_count": 6,
   "metadata": {},
   "outputs": [
    {
     "name": "stdout",
     "output_type": "stream",
     "text": [
      "(0, 1)\n",
      "(1, 2)\n",
      "(2, 3)\n",
      "(3, 4)\n",
      "(4, 5)\n",
      "(5, 6)\n",
      "(6, 7)\n"
     ]
    }
   ],
   "source": [
    "l=[1,2,3,4,5,6,7]\n",
    "for id in enumerate(l):\n",
    "    print(id)\n"
   ]
  },
  {
   "cell_type": "markdown",
   "metadata": {},
   "source": [
    "# WAP to check if a given string is palindrome or not"
   ]
  },
  {
   "cell_type": "code",
   "execution_count": null,
   "metadata": {},
   "outputs": [],
   "source": [
    "s=input(\"Enter a string: \")\n",
    "ns=\"\"\n",
    "for i in range (len(s)-1,-1,-1):\n",
    "    ns=ns+s[i]\n",
    "if ns==s:\n",
    "    print(\"yes\")\n",
    "else:\n",
    "    print(\"no\")\n"
   ]
  },
  {
   "cell_type": "code",
   "execution_count": null,
   "metadata": {},
   "outputs": [],
   "source": [
    "s=input(\"Enter a string: \")\n",
    "j=-1\n",
    "for i in range(0,(len(s)//2)):\n",
    "    if s[i]==s[j]:\n",
    "        j-=1\n",
    "    else:\n",
    "        print(\"Not palindrome\")\n",
    "        break\n",
    "else:\n",
    "    print(\"Yes palindrome\")"
   ]
  },
  {
   "cell_type": "code",
   "execution_count": null,
   "metadata": {},
   "outputs": [],
   "source": []
  }
 ],
 "metadata": {
  "kernelspec": {
   "display_name": "Python 3",
   "language": "python",
   "name": "python3"
  },
  "language_info": {
   "codemirror_mode": {
    "name": "ipython",
    "version": 3
   },
   "file_extension": ".py",
   "mimetype": "text/x-python",
   "name": "python",
   "nbconvert_exporter": "python",
   "pygments_lexer": "ipython3",
   "version": "3.8.3"
  }
 },
 "nbformat": 4,
 "nbformat_minor": 4
}
