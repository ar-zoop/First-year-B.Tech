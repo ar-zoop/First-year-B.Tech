{
 "cells": [
  {
   "cell_type": "code",
   "execution_count": null,
   "metadata": {},
   "outputs": [],
   "source": [
    "def right_justify(s):\n",
    "    s_len=len(s)\n",
    "    white_space=70-s_len\n",
    "    for i in range (0,white_space):\n",
    "        print (\" \" ,end = '')\n",
    "    print (s)\n",
    "\n",
    "word=str(input('enter a word:'))\n",
    "right_justify(word)    \n"
   ]
  },
  {
   "cell_type": "code",
   "execution_count": null,
   "metadata": {},
   "outputs": [],
   "source": [
    "for i in range(0,10):\n",
    "    print (i)"
   ]
  },
  {
   "cell_type": "code",
   "execution_count": null,
   "metadata": {},
   "outputs": [],
   "source": [
    "def do_twice(f,b):\n",
    "    f(b) \n",
    "    f(b)\n",
    "     \n",
    "def print_(b):\n",
    "    print(b)\n",
    "    \n",
    "w=\"hello\"    \n",
    "do_twice(print_, w)"
   ]
  },
  {
   "cell_type": "code",
   "execution_count": null,
   "metadata": {},
   "outputs": [],
   "source": [
    "def print_twice(bruce):\n",
    "    print(bruce)\n",
    "    print (bruce)\n",
    "    \n",
    "def do_twice(f,b):\n",
    "    f(b)\n",
    "    f(b)\n",
    "    \n",
    "w=\"hello\"\n",
    "do_twice(print_twice,w)"
   ]
  },
  {
   "cell_type": "code",
   "execution_count": null,
   "metadata": {
    "scrolled": true
   },
   "outputs": [],
   "source": [
    "def do_four(f,obj):\n",
    "    f(obj)\n",
    "    f(obj)\n",
    "def print_twice(word):\n",
    "    print (word)\n",
    "    print (word)\n",
    "    \n",
    "w=\"hello\"\n",
    "do_four(print_twice, w)"
   ]
  },
  {
   "cell_type": "markdown",
   "metadata": {},
   "source": [
    "## ex 5-1. "
   ]
  },
  {
   "cell_type": "code",
   "execution_count": null,
   "metadata": {},
   "outputs": [],
   "source": [
    "import time\n",
    "a=time.time()\n",
    "print (a)"
   ]
  },
  {
   "cell_type": "markdown",
   "metadata": {},
   "source": [
    "## ex 5-2."
   ]
  },
  {
   "cell_type": "code",
   "execution_count": null,
   "metadata": {},
   "outputs": [],
   "source": [
    "def check_fermat(a,b,c,n):\n",
    "    x=a**n + b**n\n",
    "    y=c**n    \n",
    "    if x==y:        \n",
    "        print (\"holy numbers, fermat was wrong\")\n",
    "        \n",
    "    else:\n",
    "        print(\"fermat was right\")\n",
    "        \n",
    "i=3\n",
    "while(i>2):\n",
    "    check_fermat(i,i+1,i+2,i+3)\n",
    "    i+=1\n",
    "    \n",
    "    "
   ]
  },
  {
   "cell_type": "markdown",
   "metadata": {},
   "source": [
    "## ex 5-3."
   ]
  },
  {
   "cell_type": "code",
   "execution_count": 5,
   "metadata": {},
   "outputs": [
    {
     "name": "stdout",
     "output_type": "stream",
     "text": [
      "Enter side 1: 2\n",
      "Enter side 2: 3\n",
      "Enter side 3: 4\n",
      "Yes\n"
     ]
    }
   ],
   "source": [
    "#1\n",
    "def is_triangle(a,b,c):\n",
    "    if a+b>=c and a+c>=b and b+c>=a:\n",
    "        print(\"Yes\")\n",
    "    else:\n",
    "        print(\"No\")\n",
    "    \n",
    "\n",
    "a=int(input(\"Enter side 1: \"))\n",
    "b=int(input(\"Enter side 2: \"))\n",
    "c=int(input(\"Enter side 3: \"))\n",
    "is_triangle(a,b,c)"
   ]
  },
  {
   "cell_type": "markdown",
   "metadata": {},
   "source": [
    "# Chapter 6"
   ]
  },
  {
   "cell_type": "markdown",
   "metadata": {},
   "source": [
    "## Ques- Comparing values"
   ]
  },
  {
   "cell_type": "code",
   "execution_count": 9,
   "metadata": {},
   "outputs": [
    {
     "name": "stdout",
     "output_type": "stream",
     "text": [
      "Enter num: 11\n",
      "Enter num: 12\n"
     ]
    },
    {
     "data": {
      "text/plain": [
       "-1"
      ]
     },
     "execution_count": 9,
     "metadata": {},
     "output_type": "execute_result"
    }
   ],
   "source": [
    "def compare(x,y):\n",
    "    if x>y:\n",
    "        return 1\n",
    "    elif x==y:\n",
    "        return 0\n",
    "    else:\n",
    "        return -1\n",
    "    \n",
    "a=int(input(\"Enter num: \"))  \n",
    "b=int(input(\"Enter num: \"))\n",
    "compare(a,b)"
   ]
  },
  {
   "cell_type": "code",
   "execution_count": null,
   "metadata": {},
   "outputs": [],
   "source": []
  },
  {
   "cell_type": "code",
   "execution_count": null,
   "metadata": {},
   "outputs": [],
   "source": []
  }
 ],
 "metadata": {
  "kernelspec": {
   "display_name": "Python 3",
   "language": "python",
   "name": "python3"
  },
  "language_info": {
   "codemirror_mode": {
    "name": "ipython",
    "version": 3
   },
   "file_extension": ".py",
   "mimetype": "text/x-python",
   "name": "python",
   "nbconvert_exporter": "python",
   "pygments_lexer": "ipython3",
   "version": "3.8.3"
  }
 },
 "nbformat": 4,
 "nbformat_minor": 4
}
